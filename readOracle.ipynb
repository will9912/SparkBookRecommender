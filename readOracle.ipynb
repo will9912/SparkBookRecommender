{
 "cells": [
  {
   "cell_type": "markdown",
   "metadata": {},
   "source": [
    "# Leer datos de Oracle"
   ]
  },
  {
   "cell_type": "markdown",
   "metadata": {},
   "source": [
    "## Imports y creación de sesión Spark"
   ]
  },
  {
   "cell_type": "code",
   "execution_count": null,
   "metadata": {},
   "outputs": [],
   "source": [
    "from pyspark.sql import SparkSession\n",
    "\n",
    "# Crea una SparkSession\n",
    "spark = SparkSession.builder.appName(\"Read Oracle Data\").getOrCreate()"
   ]
  },
  {
   "cell_type": "markdown",
   "metadata": {},
   "source": [
    "## Conexión con Base Oracle"
   ]
  },
  {
   "cell_type": "code",
   "execution_count": null,
   "metadata": {},
   "outputs": [],
   "source": [
    "\n",
    "\n",
    "# Define la URL JDBC de Oracle\n",
    "url = f\"jdbc:oracle:thin:@inserta aquí el host de Oracle:inserta el puerto:inserta aquí el SID\"\n",
    "\n",
    "# Define el nombre de la clase del controlador JDBC de Oracle\n",
    "driver = \"oracle.jdbc.driver.OracleDriver\"\n",
    "\n",
    "# Define las propiedades de conexión JDBC de Oracle\n",
    "properties = {\n",
    "    \"user\": \"inserta aquí el usuario de Oracle\",\n",
    "    \"password\": \"inserta aquí la contraseña de Oracle\",\n",
    "    \"driver\": driver\n",
    "}\n"
   ]
  },
  {
   "cell_type": "markdown",
   "metadata": {},
   "source": [
    "## Query de ingesta de datos y transformación base"
   ]
  },
  {
   "cell_type": "code",
   "execution_count": null,
   "metadata": {},
   "outputs": [],
   "source": [
    "# Define la consulta SQL de Oracle para leer datos\n",
    "query = \"\"\"\n",
    "SELECT\n",
    "--insertar los column_names\n",
    "FROM base_oracle\n",
    "\"\"\"\n",
    "\n",
    "# Lee los datos de Oracle como un DataFrame\n",
    "df = spark.read.jdbc(url=url, table=query, properties=properties)\n"
   ]
  },
  {
   "cell_type": "code",
   "execution_count": null,
   "metadata": {},
   "outputs": [],
   "source": [
    "# Transformación de datos\n",
    "sql_code = \"\"\"\n",
    "-- INSERTAR CÓDIGO DE TRANSFORMACIÓN AQUÍ\n",
    "\"\"\"\n",
    "df_transformed = spark.sql(sql_code)"
   ]
  },
  {
   "cell_type": "markdown",
   "metadata": {},
   "source": [
    "## Escribir los datos transformados"
   ]
  },
  {
   "cell_type": "code",
   "execution_count": null,
   "metadata": {},
   "outputs": [],
   "source": [
    "# Escribe los datos en formato CSV\n",
    "csv_name = \"datos_base.csv\"\n",
    "df_transformed.write.csv(csv_name)\n",
    "\n",
    "\n",
    "print(f\"Los datos de Oracle se leyeron correctamente y se guardaron como {csv_name}\")"
   ]
  }
 ],
 "metadata": {
  "kernelspec": {
   "display_name": "Python 3",
   "language": "python",
   "name": "python3"
  },
  "language_info": {
   "name": "python",
   "version": "3.11.7"
  }
 },
 "nbformat": 4,
 "nbformat_minor": 2
}
