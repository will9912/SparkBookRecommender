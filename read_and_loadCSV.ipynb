{
 "cells": [
  {
   "cell_type": "code",
   "execution_count": null,
   "metadata": {},
   "outputs": [],
   "source": [
    "# Imports\n",
    "from pyspark.sql import SparkSession"
   ]
  },
  {
   "cell_type": "code",
   "execution_count": null,
   "metadata": {},
   "outputs": [],
   "source": [
    "# Creando una sesión de Spark\n",
    "spark = SparkSession.builder.appName(\"Read CSV Data\").getOrCreate()"
   ]
  },
  {
   "cell_type": "code",
   "execution_count": null,
   "metadata": {},
   "outputs": [],
   "source": [
    "# Definir la ruta del CSV\n",
    "csv_path = \"output.csv\"\n",
    "# Leer los datos del CSV, crear vista temporal e imprimir schema\n",
    "df_output = spark.read.csv(csv_path, sep=';', header=True, inferSchema=True)\n",
    "df_output.createOrReplaceTempView(\"TABLE\")\n",
    "df_output.printSchema()"
   ]
  },
  {
   "cell_type": "code",
   "execution_count": null,
   "metadata": {},
   "outputs": [],
   "source": [
    "# Define la URL JDBC de Oracle para la nueva base de datos\n",
    "url = f\"jdbc:oracle:thin:@inserta aquí el host de Oracle:inserta el puerto:inserta aquí el SID\""
   ]
  },
  {
   "cell_type": "code",
   "execution_count": null,
   "metadata": {},
   "outputs": [],
   "source": [
    "# Define el nombre de la tabla de Oracle donde deseas cargar los datos\n",
    "table_name = \"inserta aquí el nombre de la tabla de Oracle donde quieres cargar los datos\""
   ]
  },
  {
   "cell_type": "code",
   "execution_count": null,
   "metadata": {},
   "outputs": [],
   "source": [
    "# Definiendo las propiedades de conexión JDBC de Oracle para la nueva base de datos\n",
    "properties = {\n",
    "    \"user\": \"inserta aquí el usuario de Oracle\",\n",
    "    \"password\": \"inserta aquí la contraseña de Oracle\",\n",
    "    \"driver\": \"oracle.jdbc.driver.OracleDriver\"\n",
    "}"
   ]
  },
  {
   "cell_type": "code",
   "execution_count": null,
   "metadata": {},
   "outputs": [],
   "source": [
    "# Escribe los datos en la tabla de Oracle como una nueva tabla\n",
    "df_output.write.jdbc(url=url, table=table_name, mode=\"overwrite\", properties=properties)"
   ]
  },
  {
   "cell_type": "code",
   "execution_count": null,
   "metadata": {},
   "outputs": [],
   "source": [
    "print(f\"Los datos del archivo {csv_path} se cargaron correctamente en la nueva tabla {table_name} de Oracle.\")"
   ]
  }
 ],
 "metadata": {
  "language_info": {
   "name": "python"
  }
 },
 "nbformat": 4,
 "nbformat_minor": 2
}
