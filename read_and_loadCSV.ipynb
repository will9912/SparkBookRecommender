{
 "cells": [
  {
   "cell_type": "markdown",
   "metadata": {},
   "source": [
    "# Leer y Cargar datos Recomendados"
   ]
  },
  {
   "cell_type": "markdown",
   "metadata": {},
   "source": [
    "## Imports y creación de sesión Spark"
   ]
  },
  {
   "cell_type": "code",
   "execution_count": null,
   "metadata": {},
   "outputs": [],
   "source": [
    "# Imports\n",
    "from pyspark.sql import SparkSession"
   ]
  },
  {
   "cell_type": "code",
   "execution_count": null,
   "metadata": {},
   "outputs": [],
   "source": [
    "# Creando una sesión de Spark\n",
    "spark = SparkSession.builder.appName(\"Read CSV Data\").getOrCreate()"
   ]
  },
  {
   "cell_type": "markdown",
   "metadata": {},
   "source": [
    "# Lectura de datos procesados"
   ]
  },
  {
   "cell_type": "code",
   "execution_count": null,
   "metadata": {},
   "outputs": [],
   "source": [
    "# Definir la ruta del CSV\n",
    "csv_path = \"output.csv\"\n",
    "# Leer los datos del CSV, crear vista temporal e imprimir schema\n",
    "df_output = spark.read.csv(csv_path, sep=';', header=True, inferSchema=True)\n",
    "df_output.createOrReplaceTempView(\"OUTPUT\")\n",
    "df_output.printSchema()"
   ]
  },
  {
   "cell_type": "markdown",
   "metadata": {},
   "source": [
    "## Conexión a nueva BD Oracle"
   ]
  },
  {
   "cell_type": "code",
   "execution_count": null,
   "metadata": {},
   "outputs": [],
   "source": [
    "# Datos de conexión\n",
    "host = \"mi_host\"\n",
    "port = \"mi_puerto\"\n",
    "user = \"mi_usuario\"\n",
    "password = \"mi_contraseña\"\n",
    "db = \"mi_base_de_datos\"\n",
    "driver = \"com.microsoft.sqlserver.jdbc.SQLServerDriver\""
   ]
  },
  {
   "cell_type": "code",
   "execution_count": null,
   "metadata": {},
   "outputs": [],
   "source": [
    "# Configuración del JDBC de SQL Server\n",
    "url_conn = f\"jdbc:sqlserver://{host}:{port};database={db};user={user};password={password};encrypt=true;trustServerCertificate=false;hostNameInCertificate=*.database.windows.net;loginTimeout=30;\""
   ]
  },
  {
   "cell_type": "code",
   "execution_count": null,
   "metadata": {},
   "outputs": [],
   "source": [
    "# Define el nombre de la tabla de SQL Server donde deseas cargar los datos\n",
    "table_name = \"inserta aquí el nombre de la tabla de Oracle donde quieres cargar los datos\""
   ]
  },
  {
   "cell_type": "markdown",
   "metadata": {},
   "source": [
    "# Carga de datos a nueva BD Oracle"
   ]
  },
  {
   "cell_type": "code",
   "execution_count": null,
   "metadata": {},
   "outputs": [],
   "source": [
    "# Escribe los datos en la tabla de SQL Server como una nueva tabla\n",
    "df_output.write.jdbc(url=url_conn, table=table_name, mode='overwrite')\n",
    "print(f\"Los datos del archivo {csv_path} se cargaron correctamente en la nueva tabla {table_name} de SQL Server.\")"
   ]
  }
 ],
 "metadata": {
  "language_info": {
   "name": "python"
  }
 },
 "nbformat": 4,
 "nbformat_minor": 2
}
